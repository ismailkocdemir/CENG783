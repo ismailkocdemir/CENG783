{
 "cells": [
  {
   "cell_type": "markdown",
   "metadata": {},
   "source": [
    "# Implementing a denoising autoencoder\n",
    "\n",
    "*Complete and hand in this completed worksheet (including its outputs and any supporting code outside of the worksheet) with your assignment submission. For more details see the [HW page](http://kovan.ceng.metu.edu.tr/~sinan/DL/index.html) on the course website.*\n",
    "\n",
    "In this exercise we will develop a denoising autoencoder, and test it out on the MNIST dataset."
   ]
  },
  {
   "cell_type": "code",
   "execution_count": null,
   "metadata": {
    "collapsed": false
   },
   "outputs": [],
   "source": [
    "# A bit of setup\n",
    "\n",
    "import numpy as np\n",
    "import matplotlib.pyplot as plt\n",
    "\n",
    "%matplotlib inline\n",
    "plt.rcParams['figure.figsize'] = (10.0, 8.0) # set default size of plots\n",
    "plt.rcParams['image.interpolation'] = 'nearest'\n",
    "plt.rcParams['image.cmap'] = 'gray'\n",
    "\n",
    "# for auto-reloading external modules\n",
    "# see http://stackoverflow.com/questions/1907993/autoreload-of-modules-in-ipython\n",
    "%load_ext autoreload\n",
    "%autoreload 2\n",
    "\n",
    "def rel_error(x, y):\n",
    "  \"\"\" returns relative error \"\"\"\n",
    "  return np.max(np.abs(x - y) / (np.maximum(1e-8, np.abs(x) + np.abs(y))))"
   ]
  },
  {
   "cell_type": "markdown",
   "metadata": {},
   "source": [
    "We will use the class `DenoisingAutoencoder` in the file `METU/denoising_autoencoder.py` to represent instances of our network. The network parameters are stored in the instance variable `self.params` where keys are string parameter names and values are numpy arrays. Below, we initialize toy data and a toy model that we will use to develop your implementation."
   ]
  },
  {
   "cell_type": "code",
   "execution_count": null,
   "metadata": {
    "collapsed": false
   },
   "outputs": [],
   "source": [
    "from METU.denoising_autoencoder import DenoisingAutoencoder\n",
    "from METU.Noise import Noise, GaussianNoise\n",
    "\n",
    "# Create a small net and some toy data to check your implementations.\n",
    "# Note that we set the random seed for repeatable experiments.\n",
    "\n",
    "input_size = 4\n",
    "hidden_size = 2\n",
    "num_inputs = 100\n",
    "# Outputs are equal to the inputs\n",
    "network_size = (input_size, hidden_size, input_size)\n",
    "\n",
    "def init_toy_model(num_inputs, input_size):\n",
    "  np.random.seed(0)\n",
    "  net = DenoisingAutoencoder((input_size, hidden_size, input_size))\n",
    "  net.init_weights()\n",
    "  return net\n",
    "\n",
    "def init_toy_data(num_inputs, input_size):\n",
    "  np.random.seed(1)\n",
    "  X = np.random.randn(num_inputs, input_size)\n",
    "  return X\n",
    "\n",
    "net = init_toy_model(num_inputs, input_size)\n",
    "X = init_toy_data(num_inputs, input_size)\n",
    "print \"Ok, now we have a toy network\""
   ]
  },
  {
   "cell_type": "markdown",
   "metadata": {},
   "source": [
    "# Forward pass: compute loss\n",
    "Open the file `METU/denoising_autoencoder.py` and look at the method `DenoisingAutoencoder.loss`. This function is very similar to the loss functions you have written in the first HWs: It takes the data and weights and computes the class scores, the loss, and the gradients on the parameters. \n",
    "\n",
    "Implement the first part of the forward pass which uses the weights and biases to compute the scores for the corrupted input. In the same function, implement the second part that computes the data and the regularization losses."
   ]
  },
  {
   "cell_type": "code",
   "execution_count": null,
   "metadata": {
    "collapsed": false
   },
   "outputs": [],
   "source": [
    "loss,_ = net.loss(GaussianNoise(0.5)(X), X, reg=3e-3, activation_function='sigmoid')\n",
    "\n",
    "correct_loss = 2.42210627243\n",
    "print 'Your loss value:' + str(loss)\n",
    "\n",
    "print 'Difference between your loss and correct loss:'\n",
    "print np.sum(np.abs(loss - correct_loss))"
   ]
  },
  {
   "cell_type": "markdown",
   "metadata": {},
   "source": [
    "# Backward pass\n",
    "Implement the rest of the function. This will compute the gradient of the loss with respect to the variables `W1`, `b1`, `W2`, and `b2`. Now that you (hopefully!) have a correctly implemented forward pass, you can debug your backward pass using a numeric gradient check:"
   ]
  },
  {
   "cell_type": "code",
   "execution_count": null,
   "metadata": {
    "collapsed": false,
    "scrolled": true
   },
   "outputs": [],
   "source": [
    "from METU.gradient_check import eval_numerical_gradient\n",
    "\n",
    "reg = 3e-3\n",
    "\n",
    "# Use numeric gradient checking to check your implementation of the backward pass.\n",
    "# If your implementation is correct, the difference between the numeric and\n",
    "# analytic gradients should be less than 1e-8 for each of W1, W2, b1, and b2.\n",
    "\n",
    "net.init_weights()\n",
    "noisy_X = GaussianNoise(0.5)(X)\n",
    "loss, grads = net.loss(noisy_X, X, reg, activation_function='tanh')\n",
    "\n",
    "# these should all be less than 1e-5 or so\n",
    "f = lambda W: net.loss(noisy_X, X, reg, activation_function='tanh')[0]\n",
    "W1_grad = eval_numerical_gradient(f, net.weights[1]['W'], verbose=False)\n",
    "print '%s max relative error: %e' % (\"W1\", rel_error(W1_grad, grads[1]['W']))\n",
    "W0_grad = eval_numerical_gradient(f, net.weights[0]['W'], verbose=False)\n",
    "print '%s max relative error: %e' % (\"W0\", rel_error(W0_grad, grads[0]['W']))"
   ]
  },
  {
   "cell_type": "markdown",
   "metadata": {},
   "source": [
    "# Train the network\n",
    "To train the network we will use stochastic gradient descent (SGD). Look at the function `DenoisingAutoencoder.train_with_SGD` and fill in the missing sections to implement the training procedure. This should be very similar to the training procedures you used in the first HW. \n",
    "\n",
    "Once you have implemented the method, run the code below to train the network on toy data. You should achieve a training loss less than 2.0."
   ]
  },
  {
   "cell_type": "code",
   "execution_count": null,
   "metadata": {
    "collapsed": false,
    "scrolled": false
   },
   "outputs": [],
   "source": [
    "net = init_toy_model(num_inputs, input_size)\n",
    "reg = 3e-3\n",
    "stats = net.train_with_SGD(X, noise=GaussianNoise(sd=0.5),\n",
    "            learning_rate=0.02, learning_rate_decay=0.95, \n",
    "            reg=reg, batchsize=100, num_iters=500, verbose=False, activation_function='sigmoid')\n",
    "\n",
    "print 'Final training loss: ', stats['loss_history'][-1]\n",
    "# plot the loss history\n",
    "plt.plot(stats['loss_history'])\n",
    "plt.xlabel('iteration')\n",
    "plt.ylabel('training loss')\n",
    "plt.title('Training Loss history')\n",
    "plt.show()"
   ]
  },
  {
   "cell_type": "markdown",
   "metadata": {},
   "source": [
    "# Load the data\n",
    "Now that you have implemented a DAE network that passes gradient checks and works on toy data, it's time to load up the MNIST dataset so we can use it to train DAE on a real dataset. Make sure that you have run \"cs231n/datasets/get_datasets.sh\" script before you continue with this step."
   ]
  },
  {
   "cell_type": "code",
   "execution_count": null,
   "metadata": {
    "collapsed": false
   },
   "outputs": [],
   "source": [
    "from cs231n.data_utils import load_mnist\n",
    "\n",
    "X_train, y_train, X_val, y_val, X_test, y_test = load_mnist()\n",
    "X_train = X_train.reshape(X_train.shape[0], -1)\n",
    "X_val = X_val.reshape(X_val.shape[0], -1)\n",
    "X_test = X_test.reshape(X_test.shape[0], -1)\n",
    "    \n",
    "print 'Train data shape: ', X_train.shape\n",
    "print 'Train labels shape: ', y_train.shape\n",
    "print 'Test data shape: ', X_test.shape\n",
    "print 'Test labels shape: ', y_test.shape"
   ]
  },
  {
   "cell_type": "code",
   "execution_count": null,
   "metadata": {
    "collapsed": false
   },
   "outputs": [],
   "source": [
    "#Visualize some samples\n",
    "\n",
    "x = np.reshape(X_train[100], (28,28))\n",
    "\n",
    "plt.imshow(x)\n",
    "plt.title(y_train[0])\n",
    "plt.show()\n",
    "\n",
    "plt.imshow(GaussianNoise(rate=0.5,sd=0.5)(x))\n",
    "plt.show()\n",
    "# Yes, DAE will learn to reconstruct from such corrupted data"
   ]
  },
  {
   "cell_type": "markdown",
   "metadata": {},
   "source": [
    "# Train a network\n",
    "To train our network we will use SGD with momentum. In addition, we will adjust the learning rate with an exponential learning rate schedule as optimization proceeds; after each epoch, we will reduce the learning rate by multiplying it by a decay rate."
   ]
  },
  {
   "cell_type": "code",
   "execution_count": null,
   "metadata": {
    "collapsed": false
   },
   "outputs": [],
   "source": [
    "import time\n",
    "\n",
    "input_size = 28 * 28\n",
    "hidden_size = 300 # Try also sizes bigger than 28*28\n",
    "\n",
    "reg = 0.0001 # 3e-3\n",
    "\n",
    "net = DenoisingAutoencoder((input_size, hidden_size, input_size))\n",
    "net.init_weights(13)\n",
    "\n",
    "# Train with SGD\n",
    "tic = time.time()\n",
    "stats = net.train_with_SGD(X_train, noise=GaussianNoise(rate=0.5,sd=0.5),\n",
    "            learning_rate=0.02, learning_rate_decay=0.95, \n",
    "            reg=reg, num_iters=1000, batchsize=128, momentum='classic', mu=0.9, verbose=True, \n",
    "            activation_function='sigmoid')\n",
    "toc = time.time()\n",
    "print toc-tic, 'sec elapsed'"
   ]
  },
  {
   "cell_type": "markdown",
   "metadata": {},
   "source": [
    "# Debug the training\n",
    "With the default parameters we provided above, you should get a validation accuracy of about 0.29 on the validation set. This isn't very good.\n",
    "\n",
    "One strategy for getting insight into what's wrong is to plot the loss function and the accuracies on the training and validation sets during optimization.\n",
    "\n",
    "Another strategy is to visualize the weights that were learned in the first layer of the network. In most neural networks trained on visual data, the first layer weights typically show some visible structure when visualized."
   ]
  },
  {
   "cell_type": "code",
   "execution_count": null,
   "metadata": {
    "collapsed": false
   },
   "outputs": [],
   "source": [
    "# Plot the loss function and train / validation accuracies\n",
    "plt.subplot(2, 1, 1)\n",
    "plt.plot(stats['loss_history'])\n",
    "plt.title('Loss history')\n",
    "plt.xlabel('Iteration')\n",
    "plt.ylabel('Loss')\n",
    "\n",
    "plt.show()"
   ]
  },
  {
   "cell_type": "code",
   "execution_count": null,
   "metadata": {
    "collapsed": false
   },
   "outputs": [],
   "source": [
    "#from cs231n.vis_utils import visualize_grid\n",
    "#from cs231n.vis_utils import visualize_grid_2D\n",
    "\n",
    "# SHOW SOME WEIGHTS\n",
    "W0 = net.weights[0]['W']\n",
    "W0 = W0.T\n",
    "num_of_samples=100\n",
    "for i in range(0,10):\n",
    "    for j in range(0,10):\n",
    "        plt.subplot(10, 10, i*10+j+1)\n",
    "        rand_index = np.random.random_integers(0,W0.shape[0]-1,1)\n",
    "        plt.imshow(W0[rand_index].reshape(28,28))\n",
    "        plt.axis('off')\n",
    "plt.show()"
   ]
  },
  {
   "cell_type": "code",
   "execution_count": null,
   "metadata": {
    "collapsed": false
   },
   "outputs": [],
   "source": [
    "# SHOW SOME RECONSTRUCTIONS\n",
    "plt_index=1\n",
    "for i in range(0,10):\n",
    "    rand_index = np.random.random_integers(0,X_train.shape[0]-1,1)\n",
    "    x = X_train[rand_index]\n",
    "    x_noisy = GaussianNoise(rate=0.5,sd=0.5)(x)\n",
    "    x_recon = net.predict(x_noisy)\n",
    "    #x_loss,_ = net.loss(x_noisy, x, reg=0.0, activation_function='sigmoid')\n",
    "    \n",
    "    plt.subplot(10,3,plt_index)\n",
    "    plt.imshow(x.reshape(28,28))\n",
    "    plt.axis('off')\n",
    "    if i == 0: plt.title('input')\n",
    "    plt_index+=1\n",
    "    plt.subplot(10,3,plt_index)\n",
    "    plt.imshow(x_noisy.reshape(28,28))\n",
    "    plt.axis('off')\n",
    "    if i == 0: plt.title('corrupted input')\n",
    "    plt_index+=1\n",
    "    plt.subplot(10,3,plt_index)\n",
    "    plt.imshow(x_recon.reshape(28,28))\n",
    "    plt.axis('off')\n",
    "    if i == 0: plt.title('reconstruction')\n",
    "    plt_index+=1"
   ]
  },
  {
   "cell_type": "markdown",
   "metadata": {},
   "source": [
    "# Tune your hyperparameters\n",
    "\n",
    "**What's wrong?**. Look at the visualizations above and try to come up with strategies for improving your training. With some effort, I came up with the following weights (which are also not perfect) and reconstructions (which are quite good):\n",
    "\n",
    "<img src=\"dae_learned_representation.png\">\n",
    "\n",
    "<img src=\"dae_learned_representation_demo.png\">\n"
   ]
  }
 ],
 "metadata": {
  "kernelspec": {
   "display_name": "Python 2",
   "language": "python",
   "name": "python2"
  },
  "language_info": {
   "codemirror_mode": {
    "name": "ipython",
    "version": 2
   },
   "file_extension": ".py",
   "mimetype": "text/x-python",
   "name": "python",
   "nbconvert_exporter": "python",
   "pygments_lexer": "ipython2",
   "version": "2.7.12"
  }
 },
 "nbformat": 4,
 "nbformat_minor": 0
}
