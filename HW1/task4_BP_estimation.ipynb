{
 "cells": [
  {
   "cell_type": "markdown",
   "metadata": {},
   "source": [
    "# A Neural Network for Regression (Estimate blood pressure from PPG signal)\n",
    "\n",
    "*Complete and hand in this completed worksheet (including its outputs and any supporting code outside of the worksheet) with your assignment submission. For more details see the [HW page](http://kovan.ceng.metu.edu.tr/~sinan/DL/index.html) on the course website.*\n",
    "\n",
    "Having gained some experience with neural networks, let us train a network that estimates the blood pressure from a PPG signal window.\n",
    "\n",
    "All of your work for this exercise will be done in this notebook."
   ]
  },
  {
   "cell_type": "markdown",
   "metadata": {},
   "source": [
    "# A Photoplethysmograph (PPG) signal\n",
    "\n",
    "A PPG (photoplethysmograph) signal is a signal obtained with a pulse oximeter, which illuminates the skin and measures changes in light absorption. A PPG signal carries rich information about the status of the cardiovascular health of a person, such as breadth rate, heart rate and blood pressure. An example is shown below, where you also see the blood pressure signal that we will estimate (the data also has the ECG signal, which you should ignore).\n",
    "\n",
    "<img width=\"80%\" src=\"PPG_ABG_ECG_example.png\">\n",
    "\n",
    "\n",
    "# Constructing the Dataset \n",
    "\n",
    "In this task, you are expected to perform the full pipeline for creating a learning system from scratch. Here is how you should construct the dataset:\n",
    "* Download the dataset from the following website, and only take \"Part 1\" from it (it is too big): https://archive.ics.uci.edu/ml/datasets/Cuff-Less+Blood+Pressure+Estimation\n",
    "* Take a window of size $W$ from the PPG channel between time $t$ and $t+W$. Let us call this $\\textbf{x}_t$.\n",
    "* Take the corresponding window of size $W$ from the ABP (arterial blood pressure) channel between time $t$ and $t+W$. Find the maxima and minima of this signal within the window (you can use \"findpeaks\" from Matlab or \"find_peaks_cwt\" from scipy). Here is an example window from the ABP signal, and its peaks:\n",
    " <img width=\"60%\" src=\"ABP_peaks.png\">\n",
    "    \n",
    "* Calculate the average of the maxima, call it $y^1_t$, and the average of the minima, call it $y^2_t$.\n",
    "* Slide the window over the PPG signals and collect many $(\\textbf{x}_t, <y^1_t, y^2_t>)$ instances. In other words, your network outputs two values.\n",
    "* This will be your input-output for training the network."
   ]
  },
  {
   "cell_type": "code",
   "execution_count": 89,
   "metadata": {
    "scrolled": true
   },
   "outputs": [
    {
     "name": "stdout",
     "output_type": "stream",
     "text": [
      "The autoreload extension is already loaded. To reload it, use:\n",
      "  %reload_ext autoreload\n"
     ]
    }
   ],
   "source": [
    "import random\n",
    "import numpy as np\n",
    "from metu.data_utils import load_dataset\n",
    "import matplotlib.pyplot as plt\n",
    "%matplotlib inline\n",
    "plt.rcParams['figure.figsize'] = (10.0, 8.0) # set default size of plots\n",
    "plt.rcParams['image.interpolation'] = 'nearest'\n",
    "plt.rcParams['image.cmap'] = 'gray'\n",
    "\n",
    "# for auto-reloading extenrnal modules\n",
    "# see http://stackoverflow.com/questions/1907993/autoreload-of-modules-in-ipython\n",
    "%load_ext autoreload\n",
    "%autoreload 2\n",
    "\n",
    "def rel_error(x, y):\n",
    "  \"\"\" returns relative error \"\"\"\n",
    "  return np.max(np.abs(x - y) / (np.maximum(1e-8, np.abs(x) + np.abs(y))))"
   ]
  },
  {
   "cell_type": "code",
   "execution_count": 90,
   "metadata": {},
   "outputs": [],
   "source": [
    "# Create a small net and some toy data to check your implementations.\n",
    "# Note that we set the random seed for repeatable experiments.\n",
    "from cs231n.classifiers.neural_net_for_regression import TwoLayerNet\n",
    "\n",
    "input_size = 4\n",
    "hidden_size = 10\n",
    "num_classes = 3\n",
    "num_inputs = 5\n",
    "\n",
    "def init_toy_model():\n",
    "  np.random.seed(0)\n",
    "  return TwoLayerNet(input_size, hidden_size, num_classes, std=1e-1)\n",
    "\n",
    "def init_toy_data():\n",
    "  np.random.seed(1)\n",
    "  X = 10 * np.random.randn(num_inputs, input_size)\n",
    "  y = np.array([[0, 1, 2], [1, 2, 3], [2, 3, 4], [2, 1, 4], [2, 1, 4]])\n",
    "  return X, y\n",
    "\n",
    "net = init_toy_model()\n",
    "X, y = init_toy_data()"
   ]
  },
  {
   "cell_type": "markdown",
   "metadata": {},
   "source": [
    "# Forward pass: compute scores\n",
    "Open the file `cs231n/classifiers/neural_net_for_regression.py` and look at the method `TwoLayerNet.loss`. This function is very similar to the loss functions you have written for the previous exercises: It takes the data and weights and computes the *regression* scores, the squared error loss, and the gradients on the parameters. \n",
    "\n",
    "To be more specific, you will implement the following loss function:\n",
    "\n",
    "$$\\frac{1}{2}\\sum_i\\sum_{j} (o_{ij} - y_{ij})^2 + \\frac{1}{2}\\lambda\\sum_j w_j^2,$$\n",
    "\n",
    "where $i$ runs through the samples in the batch; $o_{ij}$ is the prediction of the network for the $i^{th}$ sample for output $j$, and $y_{ij}$ is the correct value; $\\lambda$ is the weight of the regularization term.\n",
    "\n",
    "The first layer uses ReLU as the activation function. The output layer does not use any activation functions.\n",
    "\n",
    "Implement the first part of the forward pass which uses the weights and biases to compute the scores for all inputs."
   ]
  },
  {
   "cell_type": "code",
   "execution_count": 91,
   "metadata": {},
   "outputs": [
    {
     "name": "stdout",
     "output_type": "stream",
     "text": [
      "Your scores:\n",
      "[[-0.81233741 -1.27654624 -0.70335995]\n",
      " [-0.17129677 -1.18803311 -0.47310444]\n",
      " [-0.51590475 -1.01354314 -0.8504215 ]\n",
      " [-0.15419291 -0.48629638 -0.52901952]\n",
      " [-0.00618733 -0.12435261 -0.15226949]]\n",
      "\n",
      "correct scores:\n",
      "[[-0.81233741 -1.27654624 -0.70335995]\n",
      " [-0.17129677 -1.18803311 -0.47310444]\n",
      " [-0.51590475 -1.01354314 -0.8504215 ]\n",
      " [-0.15419291 -0.48629638 -0.52901952]\n",
      " [-0.00618733 -0.12435261 -0.15226949]]\n",
      "\n",
      "Difference between your scores and correct scores:\n",
      "3.6802720496109664e-08\n"
     ]
    }
   ],
   "source": [
    "scores = net.loss(X, dropout = 1.0)\n",
    "print 'Your scores:'\n",
    "print scores\n",
    "print\n",
    "print 'correct scores:'\n",
    "correct_scores = np.asarray([\n",
    "  [-0.81233741, -1.27654624, -0.70335995],\n",
    "  [-0.17129677, -1.18803311, -0.47310444],\n",
    "  [-0.51590475, -1.01354314, -0.8504215 ],\n",
    "  [-0.15419291, -0.48629638, -0.52901952],\n",
    "  [-0.00618733, -0.12435261, -0.15226949]])\n",
    "print correct_scores\n",
    "print\n",
    "\n",
    "# The difference should be very small. We get < 1e-7\n",
    "print 'Difference between your scores and correct scores:'\n",
    "print np.sum(np.abs(scores - correct_scores))"
   ]
  },
  {
   "cell_type": "markdown",
   "metadata": {},
   "source": [
    "# Forward pass: compute loss\n",
    "In the same function, implement the second part that computes the data and regularizaion loss."
   ]
  },
  {
   "cell_type": "code",
   "execution_count": 92,
   "metadata": {},
   "outputs": [
    {
     "name": "stdout",
     "output_type": "stream",
     "text": [
      "Difference between your loss and correct loss:\n",
      "2.5480062504357193e-11\n"
     ]
    }
   ],
   "source": [
    "loss, _ = net.loss(X, y, reg=0.1, dropout=1.0)\n",
    "correct_loss = 66.3406756909\n",
    "\n",
    "# should be very small, we get < 1e-10\n",
    "print 'Difference between your loss and correct loss:'\n",
    "print np.sum(np.abs(loss - correct_loss))"
   ]
  },
  {
   "cell_type": "markdown",
   "metadata": {},
   "source": [
    "# Backward pass\n",
    "Implement the rest of the function. This will compute the gradient of the loss with respect to the variables `W1`, `b1`, `W2`, and `b2`. Now that you (hopefully!) have a correctly implemented forward pass, you can debug your backward pass using a numeric gradient check:"
   ]
  },
  {
   "cell_type": "code",
   "execution_count": 93,
   "metadata": {
    "scrolled": false
   },
   "outputs": [
    {
     "name": "stdout",
     "output_type": "stream",
     "text": [
      "W1 max relative error: 5.463838e-04\n",
      "W2 max relative error: 3.755046e-04\n",
      "b2 max relative error: 1.443387e-06\n",
      "b1 max relative error: 2.188996e-07\n"
     ]
    }
   ],
   "source": [
    "from cs231n.gradient_check import eval_numerical_gradient\n",
    "\n",
    "# Use numeric gradient checking to check your implementation of the backward pass.\n",
    "# If your implementation is correct, the difference between the numeric and\n",
    "# analytic gradients should be less than 1e-8 for each of W1, W2, b1, and b2.\n",
    "\n",
    "loss, grads = net.loss(X, y, reg=0.1, dropout=1.0)\n",
    "\n",
    "# these should all be less than 1e-8 or so\n",
    "for param_name in grads:\n",
    "  f = lambda W: net.loss(X, y, reg=0.1, dropout=1.0)[0]\n",
    "  param_grad_num = eval_numerical_gradient(f, net.params[param_name])\n",
    "  print '%s max relative error: %e' % (param_name, rel_error(param_grad_num, grads[param_name]))"
   ]
  },
  {
   "cell_type": "markdown",
   "metadata": {},
   "source": [
    "# Load the PPG dataset for training your regression network"
   ]
  },
  {
   "cell_type": "code",
   "execution_count": 173,
   "metadata": {
    "scrolled": false
   },
   "outputs": [
    {
     "name": "stdout",
     "output_type": "stream",
     "text": [
      "Number of instances in the training set:  23676\n",
      "Number of instances in the validation set:  2367\n",
      "Number of instances in the testing set:  3551\n"
     ]
    }
   ],
   "source": [
    "# Load the PPG dataset\n",
    "# If your memory turns out to be sufficient, try loading a subset\n",
    "import os\n",
    "def get_data(datafile, training_ratio=0.8, test_ratio=0.12, val_ratio=0.08):\n",
    "  # Load the PPG training data \n",
    "\n",
    "  X, y = load_dataset(datafile)\n",
    "  \n",
    "  '''\n",
    "  X = np.load(\"long_in.npy\")\n",
    "  y = np.load(\"long_out.npy\")\n",
    "  '''\n",
    "  '''\n",
    "  X = np.load(\"single_std_in.npy\")\n",
    "  y = np.load(\"single_std_out.npy\")\n",
    "  \n",
    "  X = np.load(\"rand_st_in.npy\")\n",
    "  y = np.load(\"rand_st_out.npy\")\n",
    "  '''\n",
    "  \n",
    "  np.random.seed(0)\n",
    "  np.random.shuffle(y)\n",
    "  np.random.seed(0)\n",
    "  np.random.shuffle(X)\n",
    "\n",
    "  # TODO: Split the data into training, validation and test sets\n",
    "  length=len(y)\n",
    "  num_training=int(length*training_ratio)\n",
    "  num_val = int(length*val_ratio)\n",
    "  num_test = min((length-num_training-num_val), int(length*test_ratio))\n",
    "  mask = range(num_training-1)\n",
    "  X_train = X[mask]\n",
    "  y_train = y[mask]\n",
    "  mask = range(num_training, num_training+num_test)\n",
    "  X_test = X[mask]\n",
    "  y_test = y[mask]\n",
    "  mask = range(num_training+num_test, num_training+num_test+num_val)\n",
    "  X_val = X[mask]\n",
    "  y_val = y[mask]\n",
    "  return X_train, y_train, X_val, y_val, X_test, y_test\n",
    "cwd = os.getcwd()\n",
    "datafile = cwd  + '/metu/dataset/Part_1.mat'\n",
    "#datafile = 'metu/dataset/part1_dataset.mat' #TODO: PATH to your data file\n",
    "input_size = 1000 # TODO: Size of the input of the network\n",
    "\n",
    "X_train, y_train, X_val, y_val, X_test, y_test = get_data(datafile)\n",
    "print \"Number of instances in the training set: \", len(X_train)\n",
    "print \"Number of instances in the validation set: \", len(X_val)\n",
    "print \"Number of instances in the testing set: \", len(X_test)"
   ]
  },
  {
   "cell_type": "markdown",
   "metadata": {},
   "source": [
    "# Overfitting on a tiny set"
   ]
  },
  {
   "cell_type": "code",
   "execution_count": 321,
   "metadata": {
    "scrolled": false
   },
   "outputs": [
    {
     "name": "stdout",
     "output_type": "stream",
     "text": [
      "iteration 0 / 2500: loss 24812.250074\n",
      "iteration 100 / 2500: loss 21871.663668\n",
      "iteration 200 / 2500: loss 18935.398406\n",
      "iteration 300 / 2500: loss 26052.586229\n",
      "iteration 400 / 2500: loss 33130.058803\n",
      "iteration 500 / 2500: loss 35710.504353\n",
      "iteration 600 / 2500: loss 28327.942187\n",
      "iteration 700 / 2500: loss 32596.790524\n",
      "iteration 800 / 2500: loss 30730.188100\n",
      "iteration 900 / 2500: loss 26148.797062\n",
      "iteration 1000 / 2500: loss 23278.686058\n",
      "iteration 1100 / 2500: loss 27517.681473\n",
      "iteration 1200 / 2500: loss 31730.059124\n",
      "iteration 1300 / 2500: loss 27199.790824\n",
      "iteration 1400 / 2500: loss 29716.269166\n",
      "iteration 1500 / 2500: loss 17197.890625\n",
      "iteration 1600 / 2500: loss 5538.944007\n",
      "iteration 1700 / 2500: loss 7170.788001\n",
      "iteration 1800 / 2500: loss 814.704278\n",
      "iteration 1900 / 2500: loss 22.880757\n",
      "iteration 2000 / 2500: loss 38.002809\n",
      "iteration 2100 / 2500: loss 25.853388\n",
      "iteration 2200 / 2500: loss 18.149809\n",
      "iteration 2300 / 2500: loss 40.904985\n",
      "iteration 2400 / 2500: loss 31.229456\n",
      "\n",
      "train error:  21.078067330570956\n",
      "\n",
      "[[110.32438743  78.98962124]\n",
      " [ 88.79400243  70.13176046]\n",
      " [138.13523925  91.46710422]]\n",
      "[[110.51663326  78.71646301]\n",
      " [ 92.04246003  65.56403408]\n",
      " [134.87374363  96.05716667]]\n"
     ]
    }
   ],
   "source": [
    "from cs231n.classifiers.three_layer_net_for_regression import ThreeLayerNet\n",
    "\n",
    "tiny_fitter = ThreeLayerNet(input_size, [400,100], 2)\n",
    "\n",
    "\n",
    "# Train the network\n",
    "stats = tiny_fitter.train(X_train[:3], y_train[:3], X_train[:3], y_train[:3],\n",
    "            num_iters=2500, batch_size=3, dropout=1.0, momentum=0.9,\n",
    "            learning_rate=1e-6, learning_rate_decay=1.0,\n",
    "            reg=0.0, verbose=True)\n",
    "\n",
    "# Predict on the validation set\n",
    "#val_err = ... # TODO: Perform prediction on the validation set\n",
    "y_pred_train = tiny_fitter.predict(X_train[:3])\n",
    "train_err = np.sum(np.square(y_pred_train - y_train[:3]), axis=1).mean()\n",
    "\n",
    "print\n",
    "print 'train error: ', train_err\n",
    "print\n",
    "\n",
    "print y_train[:3]\n",
    "print y_pred_train"
   ]
  },
  {
   "cell_type": "markdown",
   "metadata": {},
   "source": [
    "# Now train our network on the PPG dataset"
   ]
  },
  {
   "cell_type": "code",
   "execution_count": 218,
   "metadata": {
    "scrolled": true
   },
   "outputs": [
    {
     "name": "stdout",
     "output_type": "stream",
     "text": [
      "iteration 0 / 15000: loss 1212843.149191\n",
      "iteration 100 / 15000: loss 965337.149450\n",
      "iteration 200 / 15000: loss 737560.241382\n",
      "iteration 300 / 15000: loss 616308.575468\n",
      "iteration 400 / 15000: loss 489871.621735\n",
      "iteration 500 / 15000: loss 394037.408788\n",
      "iteration 600 / 15000: loss 283531.736740\n",
      "iteration 700 / 15000: loss 223919.277927\n",
      "iteration 800 / 15000: loss 187610.349296\n",
      "iteration 900 / 15000: loss 168051.590669\n",
      "iteration 1000 / 15000: loss 121951.975180\n",
      "iteration 1100 / 15000: loss 108500.967042\n",
      "iteration 1200 / 15000: loss 92259.021854\n",
      "iteration 1300 / 15000: loss 67599.021720\n",
      "iteration 1400 / 15000: loss 62086.911528\n",
      "iteration 1500 / 15000: loss 60027.743975\n",
      "iteration 1600 / 15000: loss 48387.978161\n",
      "iteration 1700 / 15000: loss 42487.272690\n",
      "iteration 1800 / 15000: loss 64803.094544\n",
      "iteration 1900 / 15000: loss 43204.780335\n",
      "iteration 2000 / 15000: loss 41289.677119\n",
      "iteration 2100 / 15000: loss 42019.240178\n",
      "iteration 2200 / 15000: loss 39803.568316\n",
      "iteration 2300 / 15000: loss 37108.979297\n",
      "iteration 2400 / 15000: loss 43435.937308\n",
      "iteration 2500 / 15000: loss 38316.623439\n",
      "iteration 2600 / 15000: loss 31586.464260\n",
      "iteration 2700 / 15000: loss 30419.821774\n",
      "iteration 2800 / 15000: loss 35226.217829\n",
      "iteration 2900 / 15000: loss 43773.171786\n",
      "iteration 3000 / 15000: loss 40954.830947\n",
      "iteration 3100 / 15000: loss 35013.271227\n",
      "iteration 3200 / 15000: loss 36980.291572\n",
      "iteration 3300 / 15000: loss 36567.980054\n",
      "iteration 3400 / 15000: loss 43615.119777\n",
      "iteration 3500 / 15000: loss 33207.321318\n",
      "iteration 3600 / 15000: loss 36640.371038\n",
      "iteration 3700 / 15000: loss 32251.957142\n",
      "iteration 3800 / 15000: loss 45531.921166\n",
      "iteration 3900 / 15000: loss 34641.817541\n",
      "iteration 4000 / 15000: loss 42211.399227\n",
      "iteration 4100 / 15000: loss 40417.850885\n",
      "iteration 4200 / 15000: loss 39584.811684\n",
      "iteration 4300 / 15000: loss 32128.856532\n",
      "iteration 4400 / 15000: loss 36327.925202\n",
      "iteration 4500 / 15000: loss 42678.734543\n",
      "iteration 4600 / 15000: loss 30936.854630\n",
      "iteration 4700 / 15000: loss 39650.595577\n"
     ]
    },
    {
     "ename": "KeyboardInterrupt",
     "evalue": "",
     "output_type": "error",
     "traceback": [
      "\u001b[0;31m---------------------------------------------------------------------------\u001b[0m",
      "\u001b[0;31mKeyboardInterrupt\u001b[0m                         Traceback (most recent call last)",
      "\u001b[0;32m<ipython-input-218-0a1368ed0841>\u001b[0m in \u001b[0;36m<module>\u001b[0;34m()\u001b[0m\n\u001b[1;32m     15\u001b[0m             \u001b[0mnum_iters\u001b[0m\u001b[0;34m=\u001b[0m\u001b[0;36m15000\u001b[0m\u001b[0;34m,\u001b[0m \u001b[0mbatch_size\u001b[0m\u001b[0;34m=\u001b[0m\u001b[0;36m128\u001b[0m\u001b[0;34m,\u001b[0m \u001b[0mdropout\u001b[0m\u001b[0;34m=\u001b[0m\u001b[0;36m0.9\u001b[0m\u001b[0;34m,\u001b[0m\u001b[0;34m\u001b[0m\u001b[0m\n\u001b[1;32m     16\u001b[0m             \u001b[0mlearning_rate\u001b[0m\u001b[0;34m=\u001b[0m\u001b[0;36m1e-6\u001b[0m\u001b[0;34m,\u001b[0m \u001b[0mlearning_rate_decay\u001b[0m\u001b[0;34m=\u001b[0m\u001b[0;36m1\u001b[0m\u001b[0;34m,\u001b[0m\u001b[0;34m\u001b[0m\u001b[0m\n\u001b[0;32m---> 17\u001b[0;31m             reg=0.001, verbose=True)\n\u001b[0m\u001b[1;32m     18\u001b[0m \u001b[0;34m\u001b[0m\u001b[0m\n\u001b[1;32m     19\u001b[0m \u001b[0;31m# Predict on the validation set\u001b[0m\u001b[0;34m\u001b[0m\u001b[0;34m\u001b[0m\u001b[0m\n",
      "\u001b[0;32m/home/ismail/deeplearning/HW1_for_students/cs231n/classifiers/three_layer_net_for_regression.py\u001b[0m in \u001b[0;36mtrain\u001b[0;34m(self, X, y, X_val, y_val, learning_rate, learning_rate_decay, reg, dropout, num_iters, batch_size, verbose)\u001b[0m\n\u001b[1;32m    253\u001b[0m         \u001b[0;31m# Check error\u001b[0m\u001b[0;34m\u001b[0m\u001b[0;34m\u001b[0m\u001b[0m\n\u001b[1;32m    254\u001b[0m         \u001b[0mtrain_err\u001b[0m \u001b[0;34m=\u001b[0m \u001b[0mnp\u001b[0m\u001b[0;34m.\u001b[0m\u001b[0msum\u001b[0m\u001b[0;34m(\u001b[0m\u001b[0mnp\u001b[0m\u001b[0;34m.\u001b[0m\u001b[0msquare\u001b[0m\u001b[0;34m(\u001b[0m\u001b[0mself\u001b[0m\u001b[0;34m.\u001b[0m\u001b[0mpredict\u001b[0m\u001b[0;34m(\u001b[0m\u001b[0mX_batch\u001b[0m\u001b[0;34m)\u001b[0m \u001b[0;34m-\u001b[0m \u001b[0my_batch\u001b[0m\u001b[0;34m)\u001b[0m\u001b[0;34m,\u001b[0m \u001b[0maxis\u001b[0m\u001b[0;34m=\u001b[0m\u001b[0;36m1\u001b[0m\u001b[0;34m)\u001b[0m\u001b[0;34m.\u001b[0m\u001b[0mmean\u001b[0m\u001b[0;34m(\u001b[0m\u001b[0;34m)\u001b[0m\u001b[0;34m\u001b[0m\u001b[0m\n\u001b[0;32m--> 255\u001b[0;31m         \u001b[0mval_err\u001b[0m \u001b[0;34m=\u001b[0m \u001b[0mnp\u001b[0m\u001b[0;34m.\u001b[0m\u001b[0msum\u001b[0m\u001b[0;34m(\u001b[0m\u001b[0mnp\u001b[0m\u001b[0;34m.\u001b[0m\u001b[0msquare\u001b[0m\u001b[0;34m(\u001b[0m\u001b[0mself\u001b[0m\u001b[0;34m.\u001b[0m\u001b[0mpredict\u001b[0m\u001b[0;34m(\u001b[0m\u001b[0mX_val\u001b[0m\u001b[0;34m)\u001b[0m \u001b[0;34m-\u001b[0m \u001b[0my_val\u001b[0m\u001b[0;34m)\u001b[0m\u001b[0;34m,\u001b[0m \u001b[0maxis\u001b[0m\u001b[0;34m=\u001b[0m\u001b[0;36m1\u001b[0m\u001b[0;34m)\u001b[0m\u001b[0;34m.\u001b[0m\u001b[0mmean\u001b[0m\u001b[0;34m(\u001b[0m\u001b[0;34m)\u001b[0m\u001b[0;34m\u001b[0m\u001b[0m\n\u001b[0m\u001b[1;32m    256\u001b[0m         \u001b[0mtrain_err_history\u001b[0m\u001b[0;34m.\u001b[0m\u001b[0mappend\u001b[0m\u001b[0;34m(\u001b[0m\u001b[0mtrain_err\u001b[0m\u001b[0;34m)\u001b[0m\u001b[0;34m\u001b[0m\u001b[0m\n\u001b[1;32m    257\u001b[0m         \u001b[0mval_err_history\u001b[0m\u001b[0;34m.\u001b[0m\u001b[0mappend\u001b[0m\u001b[0;34m(\u001b[0m\u001b[0mval_err\u001b[0m\u001b[0;34m)\u001b[0m\u001b[0;34m\u001b[0m\u001b[0m\n",
      "\u001b[0;32m/home/ismail/deeplearning/HW1_for_students/cs231n/classifiers/three_layer_net_for_regression.py\u001b[0m in \u001b[0;36mpredict\u001b[0;34m(self, X)\u001b[0m\n\u001b[1;32m    286\u001b[0m     \u001b[0;31m# TODO: Implement this function; it should be VERY simple!                #\u001b[0m\u001b[0;34m\u001b[0m\u001b[0;34m\u001b[0m\u001b[0m\n\u001b[1;32m    287\u001b[0m     \u001b[0;31m###########################################################################\u001b[0m\u001b[0;34m\u001b[0m\u001b[0;34m\u001b[0m\u001b[0m\n\u001b[0;32m--> 288\u001b[0;31m     \u001b[0;32mreturn\u001b[0m \u001b[0mself\u001b[0m\u001b[0;34m.\u001b[0m\u001b[0mloss\u001b[0m\u001b[0;34m(\u001b[0m\u001b[0mX\u001b[0m\u001b[0;34m,\u001b[0m \u001b[0mdropout\u001b[0m \u001b[0;34m=\u001b[0m \u001b[0;36m1.0\u001b[0m\u001b[0;34m)\u001b[0m\u001b[0;34m\u001b[0m\u001b[0m\n\u001b[0m\u001b[1;32m    289\u001b[0m     \u001b[0;31m###########################################################################\u001b[0m\u001b[0;34m\u001b[0m\u001b[0;34m\u001b[0m\u001b[0m\n\u001b[1;32m    290\u001b[0m     \u001b[0;31m#                              END OF YOUR CODE                           #\u001b[0m\u001b[0;34m\u001b[0m\u001b[0;34m\u001b[0m\u001b[0m\n",
      "\u001b[0;32m/home/ismail/deeplearning/HW1_for_students/cs231n/classifiers/three_layer_net_for_regression.py\u001b[0m in \u001b[0;36mloss\u001b[0;34m(self, X, y, reg, dropout)\u001b[0m\n\u001b[1;32m     78\u001b[0m     \u001b[0;31m# shape (N, C).                                                             #\u001b[0m\u001b[0;34m\u001b[0m\u001b[0;34m\u001b[0m\u001b[0m\n\u001b[1;32m     79\u001b[0m     \u001b[0;31m#############################################################################\u001b[0m\u001b[0;34m\u001b[0m\u001b[0;34m\u001b[0m\u001b[0m\n\u001b[0;32m---> 80\u001b[0;31m     \u001b[0mhidden1_out\u001b[0m \u001b[0;34m=\u001b[0m \u001b[0mnp\u001b[0m\u001b[0;34m.\u001b[0m\u001b[0mdot\u001b[0m\u001b[0;34m(\u001b[0m \u001b[0mX\u001b[0m\u001b[0;34m,\u001b[0m \u001b[0mW1\u001b[0m \u001b[0;34m)\u001b[0m \u001b[0;34m+\u001b[0m \u001b[0mb1\u001b[0m\u001b[0;34m\u001b[0m\u001b[0m\n\u001b[0m\u001b[1;32m     81\u001b[0m     \u001b[0mrelu1_out\u001b[0m \u001b[0;34m=\u001b[0m \u001b[0mnp\u001b[0m\u001b[0;34m.\u001b[0m\u001b[0mmaximum\u001b[0m\u001b[0;34m(\u001b[0m\u001b[0;36m0\u001b[0m\u001b[0;34m,\u001b[0m \u001b[0mhidden1_out\u001b[0m\u001b[0;34m)\u001b[0m\u001b[0;34m\u001b[0m\u001b[0m\n\u001b[1;32m     82\u001b[0m     \u001b[0mdrop\u001b[0m \u001b[0;34m=\u001b[0m \u001b[0;34m(\u001b[0m\u001b[0mnp\u001b[0m\u001b[0;34m.\u001b[0m\u001b[0mrandom\u001b[0m\u001b[0;34m.\u001b[0m\u001b[0mrand\u001b[0m\u001b[0;34m(\u001b[0m \u001b[0;34m*\u001b[0m\u001b[0mrelu1_out\u001b[0m\u001b[0;34m.\u001b[0m\u001b[0mshape\u001b[0m \u001b[0;34m)\u001b[0m \u001b[0;34m<\u001b[0m \u001b[0mdropout\u001b[0m\u001b[0;34m)\u001b[0m  \u001b[0;34m/\u001b[0m \u001b[0mdropout\u001b[0m\u001b[0;34m\u001b[0m\u001b[0m\n",
      "\u001b[0;31mKeyboardInterrupt\u001b[0m: "
     ]
    }
   ],
   "source": [
    "# Now, let's train a neural network\n",
    "# 3 Layer net\n",
    "from cs231n.classifiers.three_layer_net_for_regression import ThreeLayerNet\n",
    "\n",
    "input_size = input_size\n",
    "hidden_size = 700\n",
    "hidden_sizes = [700, 400] # TODO: Choose a suitable hidden layer size\n",
    "num_classes = 2 # We have two outputs\n",
    "\n",
    "net = ThreeLayerNet(input_size, hidden_sizes, num_classes)\n",
    "#net = TwoLayerNet(input_size, hidden_size, num_classes)\n",
    "\n",
    "# Train the network\n",
    "stats = net.train(X_train, y_train, X_val, y_val,\n",
    "            num_iters=5000, batch_size=128, dropout=0.9,\n",
    "            learning_rate=1e-6, learning_rate_decay=1,\n",
    "            reg=0.001, verbose=True)\n",
    "\n",
    "# Predict on the validation set\n",
    "#val_err = ... # TODO: Perform prediction on the validation set\n",
    "y_pred_train = net.predict(X_train)\n",
    "train_err = np.sum(np.square(y_pred_train - y_train), axis=1).mean()\n",
    "\n",
    "y_pred_val = net.predict(X_val)\n",
    "y_pred_test = net.predict(X_test)\n",
    "val_err = np.sum(np.square(y_pred_val - y_val), axis=1).mean()\n",
    "test_err = np.sum(np.square(y_pred_test - y_test), axis=1).mean()\n",
    "\n",
    "print\n",
    "print 'train/val/test error: ', train_err , val_err, test_err\n",
    "print\n",
    "\n",
    "idx = np.random.choice(y_val.shape[0], 5)\n",
    "print y_val[idx]\n",
    "print y_pred_val[idx]"
   ]
  },
  {
   "cell_type": "markdown",
   "metadata": {},
   "source": [
    "# Debug the training and improve learning\n",
    "You should be able to get a validation error of 5.\n",
    "\n",
    "So far so good. But, is it really good? Let us plot the validation and training errors to see how good the network did. Did it memorize or generalize? Discuss your observations and conclusions. If its performance is not looking good, propose and test measures. This is the part that will show me how well you have digested everything covered in the lectures."
   ]
  },
  {
   "cell_type": "code",
   "execution_count": 209,
   "metadata": {
    "scrolled": true
   },
   "outputs": [
    {
     "data": {
      "image/png": "[encoded data removed]",
      "text/plain": [
       "<Figure size 720x576 with 2 Axes>"
      ]
     },
     "metadata": {},
     "output_type": "display_data"
    }
   ],
   "source": [
    "# Plot the loss function and train / validation errors\n",
    "plt.subplot(2, 1, 1)\n",
    "plt.plot(stats['loss_history'])\n",
    "plt.title('Loss history')\n",
    "plt.xlabel('Iteration')\n",
    "plt.ylabel('Loss')\n",
    "\n",
    "plt.subplot(2, 1, 2)\n",
    "train = plt.plot(stats['train_err_history'], label='train')\n",
    "val = plt.plot(stats['val_err_history'], label='val')\n",
    "plt.legend(loc='upper right', shadow=True)\n",
    "plt.title('Classification error history')\n",
    "plt.xlabel('Epoch')\n",
    "plt.ylabel('Clasification error')\n",
    "plt.show()"
   ]
  },
  {
   "cell_type": "markdown",
   "metadata": {},
   "source": [
    "# Finetuning and Improving Your Network (Bonus)\n",
    "There are many aspects and hyper-parameters you can play with. Do play with them and find the best setting here."
   ]
  },
  {
   "cell_type": "code",
   "execution_count": 200,
   "metadata": {
    "collapsed": true
   },
   "outputs": [
    {
     "name": "stdout",
     "output_type": "stream",
     "text": [
      "bs: 32 lr: 1e-05 rg: 0.5 dr: 0.5\n",
      "train/val err: 566.6332003759806 562.0242200682388\n",
      "\n",
      "bs: 32 lr: 1e-05 rg: 0.5 dr: 1.0\n",
      "train/val err: 566.5962689612354 562.2851977891905\n",
      "\n",
      "bs: 32 lr: 1e-05 rg: 0.001 dr: 0.5\n",
      "train/val err: 571.6366592864364 570.9782198810125\n",
      "\n",
      "bs: 32 lr: 1e-05 rg: 0.001 dr: 1.0\n",
      "train/val err: 566.6017455349102 562.3707172733087\n",
      "\n",
      "bs: 32 lr: 1e-05 rg: 0.0 dr: 0.5\n",
      "train/val err: 566.6852384305731 562.8515455774327\n",
      "\n",
      "bs: 32 lr: 1e-05 rg: 0.0 dr: 1.0\n",
      "train/val err: 567.8725726108629 562.2554808083893\n",
      "\n",
      "bs: 32 lr: 1e-06 rg: 0.5 dr: 0.5\n",
      "train/val err: 563.8613021983213 563.0019774258633\n",
      "\n",
      "bs: 32 lr: 1e-06 rg: 0.5 dr: 1.0\n",
      "train/val err: 551.3983697520571 543.7521959911569\n",
      "\n",
      "bs: 32 lr: 1e-06 rg: 0.001 dr: 0.5\n",
      "train/val err: 596.8335043303956 602.6473569731916\n",
      "\n",
      "bs: 32 lr: 1e-06 rg: 0.001 dr: 1.0\n",
      "train/val err: 551.1226276823005 543.5266325930113\n",
      "\n",
      "bs: 32 lr: 1e-06 rg: 0.0 dr: 0.5\n",
      "train/val err: 546.5618766307459 541.3965484768689\n",
      "\n",
      "bs: 32 lr: 1e-06 rg: 0.0 dr: 1.0\n",
      "train/val err: 617.7507076374998 629.9026336592285\n",
      "\n",
      "bs: 32 lr: 5e-07 rg: 0.5 dr: 0.5\n",
      "train/val err: 957.8639482661403 961.5631170785011\n",
      "\n",
      "bs: 32 lr: 5e-07 rg: 0.5 dr: 1.0\n",
      "train/val err: 670.4291046071263 663.0610037655969\n",
      "\n",
      "bs: 32 lr: 5e-07 rg: 0.001 dr: 0.5\n",
      "train/val err: 948.069722532218 940.5973835996753\n",
      "\n",
      "bs: 32 lr: 5e-07 rg: 0.001 dr: 1.0\n",
      "train/val err: 647.4446508998823 643.2788928899109\n",
      "\n",
      "bs: 32 lr: 5e-07 rg: 0.0 dr: 0.5\n",
      "train/val err: 953.9185670152302 948.0128615581756\n",
      "\n",
      "bs: 32 lr: 5e-07 rg: 0.0 dr: 1.0\n",
      "train/val err: 786.4372713846383 782.1555628336133\n",
      "\n",
      "bs: 32 lr: 1e-07 rg: 0.5 dr: 0.5\n",
      "train/val err: 1307.041100925937 1302.867377401094\n",
      "\n",
      "bs: 32 lr: 1e-07 rg: 0.5 dr: 1.0\n",
      "train/val err: 1332.2370728978103 1331.2320337705864\n",
      "\n",
      "bs: 32 lr: 1e-07 rg: 0.001 dr: 0.5\n",
      "train/val err: 1312.1191192797096 1311.0407821193076\n",
      "\n",
      "bs: 32 lr: 1e-07 rg: 0.001 dr: 1.0\n",
      "train/val err: 1332.650575241719 1331.107553718516\n",
      "\n",
      "bs: 32 lr: 1e-07 rg: 0.0 dr: 0.5\n",
      "train/val err: 1317.2064863533392 1317.707549666935\n",
      "\n",
      "bs: 32 lr: 1e-07 rg: 0.0 dr: 1.0\n",
      "train/val err: 1343.9086486633978 1346.0491693737836\n",
      "\n",
      "bs: 64 lr: 1e-05 rg: 0.5 dr: 0.5\n",
      "train/val err: 568.1267591137105 565.7081080118354\n",
      "\n",
      "bs: 64 lr: 1e-05 rg: 0.5 dr: 1.0\n",
      "train/val err: 435990417718588.6 435990451422695.9\n",
      "\n",
      "bs: 64 lr: 1e-05 rg: 0.001 dr: 0.5\n",
      "train/val err: 566.9825108815106 563.5727510212113\n",
      "\n",
      "bs: 64 lr: 1e-05 rg: 0.001 dr: 1.0\n",
      "train/val err: 566.5994064743727 562.3199764831035\n",
      "\n",
      "bs: 64 lr: 1e-05 rg: 0.0 dr: 0.5\n"
     ]
    },
    {
     "ename": "KeyboardInterrupt",
     "evalue": "",
     "output_type": "error",
     "traceback": [
      "\u001b[0;31m---------------------------------------------------------------------------\u001b[0m",
      "\u001b[0;31mKeyboardInterrupt\u001b[0m                         Traceback (most recent call last)",
      "\u001b[0;32m<ipython-input-200-b387ec1065f3>\u001b[0m in \u001b[0;36m<module>\u001b[0;34m()\u001b[0m\n\u001b[1;32m     22\u001b[0m                     \u001b[0mnum_iters\u001b[0m\u001b[0;34m=\u001b[0m\u001b[0;36m3000\u001b[0m\u001b[0;34m,\u001b[0m \u001b[0mbatch_size\u001b[0m\u001b[0;34m=\u001b[0m\u001b[0mbatch_sizes\u001b[0m\u001b[0;34m[\u001b[0m\u001b[0mk\u001b[0m\u001b[0;34m]\u001b[0m\u001b[0;34m,\u001b[0m \u001b[0mdropout\u001b[0m\u001b[0;34m=\u001b[0m\u001b[0mdropout_probs\u001b[0m\u001b[0;34m[\u001b[0m\u001b[0md\u001b[0m\u001b[0;34m]\u001b[0m\u001b[0;34m,\u001b[0m\u001b[0;34m\u001b[0m\u001b[0m\n\u001b[1;32m     23\u001b[0m                     \u001b[0mlearning_rate\u001b[0m\u001b[0;34m=\u001b[0m\u001b[0mlearning_rates\u001b[0m\u001b[0;34m[\u001b[0m\u001b[0mi\u001b[0m\u001b[0;34m]\u001b[0m\u001b[0;34m,\u001b[0m \u001b[0mlearning_rate_decay\u001b[0m\u001b[0;34m=\u001b[0m\u001b[0;36m0.95\u001b[0m\u001b[0;34m,\u001b[0m\u001b[0;34m\u001b[0m\u001b[0m\n\u001b[0;32m---> 24\u001b[0;31m                     reg=regularization_strengths[j])\n\u001b[0m\u001b[1;32m     25\u001b[0m                 \u001b[0mval_err\u001b[0m \u001b[0;34m=\u001b[0m \u001b[0mnp\u001b[0m\u001b[0;34m.\u001b[0m\u001b[0msum\u001b[0m\u001b[0;34m(\u001b[0m\u001b[0mnp\u001b[0m\u001b[0;34m.\u001b[0m\u001b[0msquare\u001b[0m\u001b[0;34m(\u001b[0m\u001b[0mnet\u001b[0m\u001b[0;34m.\u001b[0m\u001b[0mpredict\u001b[0m\u001b[0;34m(\u001b[0m\u001b[0mX_val\u001b[0m\u001b[0;34m)\u001b[0m \u001b[0;34m-\u001b[0m \u001b[0my_val\u001b[0m\u001b[0;34m)\u001b[0m\u001b[0;34m,\u001b[0m \u001b[0maxis\u001b[0m\u001b[0;34m=\u001b[0m\u001b[0;36m1\u001b[0m\u001b[0;34m)\u001b[0m\u001b[0;34m.\u001b[0m\u001b[0mmean\u001b[0m\u001b[0;34m(\u001b[0m\u001b[0;34m)\u001b[0m\u001b[0;34m\u001b[0m\u001b[0m\n\u001b[1;32m     26\u001b[0m                 \u001b[0mtrain_err\u001b[0m \u001b[0;34m=\u001b[0m \u001b[0mnp\u001b[0m\u001b[0;34m.\u001b[0m\u001b[0msum\u001b[0m\u001b[0;34m(\u001b[0m\u001b[0mnp\u001b[0m\u001b[0;34m.\u001b[0m\u001b[0msquare\u001b[0m\u001b[0;34m(\u001b[0m\u001b[0mnet\u001b[0m\u001b[0;34m.\u001b[0m\u001b[0mpredict\u001b[0m\u001b[0;34m(\u001b[0m\u001b[0mX_train\u001b[0m\u001b[0;34m)\u001b[0m \u001b[0;34m-\u001b[0m \u001b[0my_train\u001b[0m\u001b[0;34m)\u001b[0m\u001b[0;34m,\u001b[0m \u001b[0maxis\u001b[0m\u001b[0;34m=\u001b[0m\u001b[0;36m1\u001b[0m\u001b[0;34m)\u001b[0m\u001b[0;34m.\u001b[0m\u001b[0mmean\u001b[0m\u001b[0;34m(\u001b[0m\u001b[0;34m)\u001b[0m\u001b[0;34m\u001b[0m\u001b[0m\n",
      "\u001b[0;32m/home/ismail/deeplearning/HW1_for_students/cs231n/classifiers/three_layer_net_for_regression.py\u001b[0m in \u001b[0;36mtrain\u001b[0;34m(self, X, y, X_val, y_val, learning_rate, learning_rate_decay, reg, dropout, num_iters, batch_size, verbose)\u001b[0m\n\u001b[1;32m    198\u001b[0m \u001b[0;34m\u001b[0m\u001b[0m\n\u001b[1;32m    199\u001b[0m       \u001b[0;31m# Compute loss and gradients using the current minibatch\u001b[0m\u001b[0;34m\u001b[0m\u001b[0;34m\u001b[0m\u001b[0m\n\u001b[0;32m--> 200\u001b[0;31m       \u001b[0mloss\u001b[0m\u001b[0;34m,\u001b[0m \u001b[0mgrads\u001b[0m \u001b[0;34m=\u001b[0m \u001b[0mself\u001b[0m\u001b[0;34m.\u001b[0m\u001b[0mloss\u001b[0m\u001b[0;34m(\u001b[0m\u001b[0mX_batch\u001b[0m\u001b[0;34m,\u001b[0m \u001b[0my\u001b[0m\u001b[0;34m=\u001b[0m\u001b[0my_batch\u001b[0m\u001b[0;34m,\u001b[0m \u001b[0mreg\u001b[0m\u001b[0;34m=\u001b[0m\u001b[0mreg\u001b[0m\u001b[0;34m,\u001b[0m \u001b[0mdropout\u001b[0m\u001b[0;34m=\u001b[0m\u001b[0mdropout\u001b[0m\u001b[0;34m)\u001b[0m\u001b[0;34m\u001b[0m\u001b[0m\n\u001b[0m\u001b[1;32m    201\u001b[0m       \u001b[0mloss_history\u001b[0m\u001b[0;34m.\u001b[0m\u001b[0mappend\u001b[0m\u001b[0;34m(\u001b[0m\u001b[0mloss\u001b[0m\u001b[0;34m)\u001b[0m\u001b[0;34m\u001b[0m\u001b[0m\n\u001b[1;32m    202\u001b[0m \u001b[0;34m\u001b[0m\u001b[0m\n",
      "\u001b[0;32m/home/ismail/deeplearning/HW1_for_students/cs231n/classifiers/three_layer_net_for_regression.py\u001b[0m in \u001b[0;36mloss\u001b[0;34m(self, X, y, reg, dropout)\u001b[0m\n\u001b[1;32m     80\u001b[0m     \u001b[0mhidden1_out\u001b[0m \u001b[0;34m=\u001b[0m \u001b[0mnp\u001b[0m\u001b[0;34m.\u001b[0m\u001b[0mdot\u001b[0m\u001b[0;34m(\u001b[0m \u001b[0mX\u001b[0m\u001b[0;34m,\u001b[0m \u001b[0mW1\u001b[0m \u001b[0;34m)\u001b[0m \u001b[0;34m+\u001b[0m \u001b[0mb1\u001b[0m\u001b[0;34m\u001b[0m\u001b[0m\n\u001b[1;32m     81\u001b[0m     \u001b[0mrelu1_out\u001b[0m \u001b[0;34m=\u001b[0m \u001b[0mnp\u001b[0m\u001b[0;34m.\u001b[0m\u001b[0mmaximum\u001b[0m\u001b[0;34m(\u001b[0m\u001b[0;36m0\u001b[0m\u001b[0;34m,\u001b[0m \u001b[0mhidden1_out\u001b[0m\u001b[0;34m)\u001b[0m\u001b[0;34m\u001b[0m\u001b[0m\n\u001b[0;32m---> 82\u001b[0;31m     \u001b[0mdrop\u001b[0m \u001b[0;34m=\u001b[0m \u001b[0;34m(\u001b[0m\u001b[0mnp\u001b[0m\u001b[0;34m.\u001b[0m\u001b[0mrandom\u001b[0m\u001b[0;34m.\u001b[0m\u001b[0mrand\u001b[0m\u001b[0;34m(\u001b[0m \u001b[0;34m*\u001b[0m\u001b[0mrelu1_out\u001b[0m\u001b[0;34m.\u001b[0m\u001b[0mshape\u001b[0m \u001b[0;34m)\u001b[0m \u001b[0;34m<\u001b[0m \u001b[0mdropout\u001b[0m\u001b[0;34m)\u001b[0m  \u001b[0;34m/\u001b[0m \u001b[0mdropout\u001b[0m\u001b[0;34m\u001b[0m\u001b[0m\n\u001b[0m\u001b[1;32m     83\u001b[0m     \u001b[0mrelu1_out\u001b[0m \u001b[0;34m*=\u001b[0m \u001b[0mdrop\u001b[0m\u001b[0;34m\u001b[0m\u001b[0m\n\u001b[1;32m     84\u001b[0m \u001b[0;34m\u001b[0m\u001b[0m\n",
      "\u001b[0;31mKeyboardInterrupt\u001b[0m: "
     ]
    }
   ],
   "source": [
    "best_net = None\n",
    "\n",
    "results = {}\n",
    "best_val = float(\"inf\")\n",
    "\n",
    "batch_sizes = [32, 64, 128]\n",
    "dropout_probs = [0.5, 1.0]\n",
    "learning_rates = [1e-5,1e-6, 5e-7, 1e-7]\n",
    "regularization_strengths = [5e-1,1e-3, 0.0]\n",
    "k=0\n",
    "while k<len(batch_sizes):\n",
    "    i=0\n",
    "    while i< len(learning_rates):\n",
    "        j = 0\n",
    "        while j < len(regularization_strengths):    \n",
    "            d = 0\n",
    "            while d < len(dropout_probs):\n",
    "                print 'bs:',batch_sizes[k], \"lr:\", learning_rates[i], \"rg:\", regularization_strengths[j], 'dr:', dropout_probs[d]\n",
    "                \n",
    "                net = ThreeLayerNet(input_size, [500,300], num_classes)\n",
    "                stats = net.train(X_train, y_train, X_val, y_val,\n",
    "                    num_iters=3000, batch_size=batch_sizes[k], dropout=dropout_probs[d],\n",
    "                    learning_rate=learning_rates[i], learning_rate_decay=0.95,\n",
    "                    reg=regularization_strengths[j])\n",
    "                val_err = np.sum(np.square(net.predict(X_val) - y_val), axis=1).mean()\n",
    "                train_err = np.sum(np.square(net.predict(X_train) - y_train), axis=1).mean()\n",
    "                \n",
    "                print 'train/val err:',train_err, val_err\n",
    "                if best_val > val_err:\n",
    "                    best_val = val_err\n",
    "                    best_net = net\n",
    "                results[(batch_sizes[k],learning_rates[i], regularization_strengths[j], dropout_probs[d])] = (train_err, val_err)\n",
    "                print\n",
    "                d=d+1\n",
    "            j=j+1\n",
    "        i=i+1\n",
    "    k=k+1\n",
    "\n",
    "print 'best validation error achieved during cross-validation: %f' % best_val\n",
    "\n",
    "test_error = np.sum(np.square(best_net.predict(X_test) - y_test), axis=1).mean()\n",
    "print 'Test error: ', test_error\n"
   ]
  },
  {
   "cell_type": "markdown",
   "metadata": {},
   "source": [
    "\n",
    "# Discussion"
   ]
  },
  {
   "cell_type": "markdown",
   "metadata": {},
   "source": [
    "I have tried several architectures with 2 and 3 layers with different learning rates, regularizations strengths, dropout rates etc. I was always stuck in a local minima. I have also tried to collect to data with different strides and randomizations. Those did not help as well. I could not even achieved 0.0 loss in tiny subsets of the data with sizes of 3, 5, 10, and 20. \n",
    "\n",
    "Only way I can tell it works is I could achieve 0.0 loss with 2 data points. Other than that no mentionable results. "
   ]
  },
  {
   "cell_type": "code",
   "execution_count": null,
   "metadata": {},
   "outputs": [],
   "source": []
  }
 ],
 "metadata": {
  "kernelspec": {
   "display_name": "Python 2",
   "language": "python",
   "name": "python2"
  },
  "language_info": {
   "codemirror_mode": {
    "name": "ipython",
    "version": 2
   },
   "file_extension": ".py",
   "mimetype": "text/x-python",
   "name": "python",
   "nbconvert_exporter": "python",
   "pygments_lexer": "ipython2",
   "version": "2.7.14"
  }
 },
 "nbformat": 4,
 "nbformat_minor": 1
}
